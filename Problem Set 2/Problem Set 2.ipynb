{
 "cells": [
  {
   "cell_type": "markdown",
   "id": "0a9adb00",
   "metadata": {},
   "source": [
    "# Question 1"
   ]
  },
  {
   "cell_type": "code",
   "execution_count": 18,
   "id": "ccaf2391",
   "metadata": {},
   "outputs": [
    {
     "data": {
      "text/plain": [
       "6"
      ]
     },
     "execution_count": 18,
     "metadata": {},
     "output_type": "execute_result"
    }
   ],
   "source": [
    "a = 0\n",
    "def b():\n",
    " global a\n",
    " a = c(a)\n",
    "def c(a):\n",
    " return a + 2\n",
    "\n",
    "b()\n",
    "b()\n",
    "b()\n",
    "a \n"
   ]
  },
  {
   "cell_type": "markdown",
   "id": "93126207",
   "metadata": {},
   "source": [
    "The value displayed is 6 . \n",
    "\n",
    "`a = 0` \n",
    "a is initialized as 'a' variable with value 0\n",
    "\n",
    "`def b():\n",
    " global a`\n",
    "\n",
    "Function b() is defined  \n",
    "global a  is declared as a variable within  `b()`\n",
    "Any changes made to `a` inside  function will affect the global variable `a` outside the function \n",
    "\n",
    "`c(a)`\n",
    "This is a function call with a current value of `a`\n",
    "so\n",
    " \n",
    "`a =c(a)` \n",
    " The result from `c(a)`is assigned back to variable `a`\n",
    "function c within the current value of 'a' and will update 'a' with the result  \n",
    "\n",
    "`return a + 2`\n",
    "this takes argument `a` and returns `a+2`\n",
    "\n",
    "First `b()`\n",
    "Updates `a` by calling `c(a)` (`a` is 0 initially, so `c(0)`)\n",
    "a = 0+2 = 2\n",
    "\n",
    "Second `b()`\n",
    "Updates `a` by calling `c(a)` (`a` is now 2, so `c(2)`)\n",
    "a = 2+2 = 4 \n",
    "\n",
    "Third `b()`\n",
    "Updates 'a' by calling `c(a)` (`a` is now 4, so `c(4)`)\n",
    "a = 4+2 =6\n",
    "\n",
    "`a`\n",
    " This prints the final value of `a`, which is 6 after calling b() three times\n",
    " "
   ]
  },
  {
   "cell_type": "markdown",
   "id": "6ef96838",
   "metadata": {},
   "source": [
    "# Question 2 "
   ]
  },
  {
   "cell_type": "code",
   "execution_count": 19,
   "id": "485676b4",
   "metadata": {},
   "outputs": [
    {
     "name": "stdout",
     "output_type": "stream",
     "text": [
      "123\n",
      "File midterm.py not found.\n"
     ]
    }
   ],
   "source": [
    "\n",
    "def fileLength(file_name):\n",
    "    try:       \n",
    "        file = open(file_name)  \n",
    "        contents = file.read()\n",
    "        file.close()\n",
    "        print(len(contents))\n",
    "        \n",
    "    except FileNotFoundError:        \n",
    "        print(f\"File {file_name} not found.\")\n",
    "        \n",
    "\n",
    "fileLength('Filelength.txt')\n",
    "fileLength('midterm.py')\n",
    "\n"
   ]
  },
  {
   "cell_type": "markdown",
   "id": "1a5ebeb9",
   "metadata": {},
   "source": [
    "# Question 3 "
   ]
  },
  {
   "cell_type": "code",
   "execution_count": 20,
   "id": "fc04d02c",
   "metadata": {},
   "outputs": [
    {
     "name": "stdout",
     "output_type": "stream",
     "text": [
      "['doll', 'firetruck', 'kitten']\n",
      "I am a Kangaroo located at coordinates (0,0)\n",
      "['doll', 'firetruck', 'kitten']\n",
      "I am a Kangaroo located at coordinates (3,0)\n"
     ]
    }
   ],
   "source": [
    "\n",
    "# Initialize Marsupial class and create  an empty list 'pouch' \n",
    "class Marsupial:\n",
    "    def __init__(self):   \n",
    "        self.pouch = []\n",
    "\n",
    "# Method takes item and put in the list pouch \n",
    "    def put_in_pouch(self, item):\n",
    "        self.pouch.append(item)\n",
    "\n",
    "# This returns the content of the pouch       \n",
    "    def pouch_contents(self):\n",
    "        return self.pouch\n",
    "\n",
    "    \n",
    "# Examples\n",
    "m = Marsupial()\n",
    "m.put_in_pouch('doll')\n",
    "m.put_in_pouch('firetruck')\n",
    "m.put_in_pouch('kitten')\n",
    "\n",
    "print(m.pouch_contents())\n",
    "\n",
    "# Kangaroo as a subclass of Marsupial that inherits all the attributes of Marsupial \n",
    "class Kangaroo(Marsupial):\n",
    "    def __init__(self, x, y):\n",
    "        \"\"\"\n",
    "        a. extends the Marsupial __init__ constructor to take, as input, the\n",
    "        coordinates x and y of the Kangaroo object\n",
    "        \"\"\"\n",
    "        Marsupial.__init__(self)\n",
    "        self.x = x\n",
    "        self.y = y\n",
    "        \n",
    "        \"\"\"\n",
    "        b. supports method jump that takes number values dx and dy as input and\n",
    "        moves the kangaroo by dx units along the x-axis and by dy units along the yaxis\n",
    "        \"\"\" \n",
    "    def jump(self, dx, dy):        \n",
    "        self.x += dx\n",
    "        self.y += dy\n",
    "        \n",
    "        \"\"\"\n",
    "        c. overloads the __str__ operator so it behaves as shown below.\n",
    "        \"\"\"  \n",
    "    def __str__(self):\n",
    "        return f\"I am a Kangaroo located at coordinates ({self.x},{self.y})\"\n",
    "\n",
    "# Example usage:\n",
    "k = Kangaroo(0, 0)\n",
    "print(k)  \n",
    "k.put_in_pouch('doll')\n",
    "k.put_in_pouch('firetruck')\n",
    "k.put_in_pouch('kitten')\n",
    "print(k.pouch_contents())  \n",
    "k.jump(1, 0)\n",
    "k.jump(1, 0)\n",
    "k.jump(1, 0)\n",
    "print(k)      "
   ]
  },
  {
   "cell_type": "markdown",
   "id": "09ced752",
   "metadata": {},
   "source": [
    "# Question 4"
   ]
  },
  {
   "cell_type": "code",
   "execution_count": 2,
   "id": "27deeb53",
   "metadata": {},
   "outputs": [
    {
     "name": "stdout",
     "output_type": "stream",
     "text": [
      "1\n",
      "10\n",
      "5\n",
      "16\n",
      "8\n",
      "4\n",
      "2\n",
      "1\n"
     ]
    }
   ],
   "source": [
    "\n",
    "def collatz(x):\n",
    "    print(x)\n",
    "    if x == 1:             # base case  if x equals 1 stop the sequence \n",
    "        return\n",
    "    \n",
    "    elif  x % 2 == 0:      # if x is even \n",
    "        collatz(x // 2 )   # divide it by 2\n",
    "    \n",
    "    else:                   # x is odd\n",
    "        collatz(3 * x + 1)  # implement 3x +1 \n",
    "        \n",
    "collatz(1)\n",
    "collatz(10)\n"
   ]
  },
  {
   "cell_type": "markdown",
   "id": "2db951d7",
   "metadata": {},
   "source": [
    "# Question 5"
   ]
  },
  {
   "cell_type": "code",
   "execution_count": 3,
   "id": "238032d2",
   "metadata": {
    "scrolled": true
   },
   "outputs": [
    {
     "name": "stdout",
     "output_type": "stream",
     "text": [
      "0\n",
      "1\n",
      "11\n",
      "1001\n"
     ]
    }
   ],
   "source": [
    "\n",
    "def binary(n):\n",
    "    \n",
    "    if n > 1:\n",
    "        binary (n // 2)\n",
    "    print (n % 2, end='')\n",
    "\n",
    "binary(0)\n",
    "print()\n",
    "binary(1)\n",
    "print()\n",
    "binary(3)\n",
    "print()\n",
    "binary(9)\n",
    "print()\n"
   ]
  },
  {
   "cell_type": "markdown",
   "id": "f717c707",
   "metadata": {},
   "source": [
    "# Question 6"
   ]
  },
  {
   "cell_type": "code",
   "execution_count": 13,
   "id": "a63bef79",
   "metadata": {},
   "outputs": [
    {
     "name": "stdout",
     "output_type": "stream",
     "text": [
      "W3C Mission\n",
      " Principles\n"
     ]
    }
   ],
   "source": [
    "from html.parser import HTMLParser\n",
    "\n",
    "class HeadingParser(HTMLParser):\n",
    "    def __init__(self):\n",
    "        HTMLParser.__init__(self) # The HTMLParse is initilized and heading level is set to O \n",
    "        self.headings = 0\n",
    "   \n",
    "    # Checks if tag is h1 or h2 whenever the parser encounters a starting tag \n",
    "    def handle_starttag(self, tag, attrs):\n",
    "        if tag in ['h1', 'h2']:\n",
    "            self.headings = int(tag[1]) # Sets the current heading level based on the tag name\n",
    "\n",
    "    # Whenever the parser encounters an ending tag,\n",
    "    # Checks if the tag is h1 or h2 and resets the heading level to 0.\n",
    "    def handle_endtag(self, tag):\n",
    "        # If the tag is a heading tag (h1, h2, etc.)\n",
    "        if tag in ['h1', 'h2']:\n",
    "            self.headings = 0\n",
    "\n",
    "    # Whenever the parser encounters character data\n",
    "    def handle_data(self, data):\n",
    "        if self.headings > 0:               # checks if the current heading level is greater than 0.\n",
    "            indent = self.headings - 1      # Calculate the indentation level\n",
    "            print(' ' * indent + data)      # Prints the data with the appropriate indentation\n",
    "\n",
    "\n",
    "# Example \n",
    "infile = open('w3c.txt')\n",
    "content = infile.read()\n",
    "infile.close()\n",
    "hp = HeadingParser()\n",
    "hp.feed(content)\n"
   ]
  },
  {
   "cell_type": "markdown",
   "id": "07598a7d",
   "metadata": {},
   "source": [
    "# Question 7"
   ]
  },
  {
   "cell_type": "code",
   "execution_count": 17,
   "id": "c8f145e6",
   "metadata": {
    "scrolled": true
   },
   "outputs": [
    {
     "name": "stdout",
     "output_type": "stream",
     "text": [
      " http://reed.cs.depaul.edu/lperkovic/csc242/test1.html\n",
      "   http://reed.cs.depaul.edu/lperkovic/csc242/test2.html\n",
      "     http://reed.cs.depaul.edu/lperkovic/csc242/test4.html\n",
      "   http://reed.cs.depaul.edu/lperkovic/csc242/test3.html\n",
      "     http://reed.cs.depaul.edu/lperkovic/csc242/test4.html\n"
     ]
    }
   ],
   "source": [
    "import requests\n",
    "from bs4 import BeautifulSoup\n",
    "\n",
    "def webdir(url, depth, indent):\n",
    "    if depth < 0:\n",
    "        return\n",
    "    print(' ' * indent, url)\n",
    "    try:\n",
    "        response = requests.get(url)\n",
    "        soup = BeautifulSoup(response.text, 'html.parser')\n",
    "        for link in soup.find_all('a'):\n",
    "            href = link.get('href')\n",
    "            if href and href.startswith('http'):\n",
    "                webdir(href, depth - 1, indent + 2)\n",
    "    except Exception as e:\n",
    "        print(' ' * indent, 'Error:', e)\n",
    "\n",
    "\n",
    "webdir('http://reed.cs.depaul.edu/lperkovic/csc242/test1.html', 2, 0)\n",
    "webdir('http://reed.cs.depaul.edu/lperkovic/csc242/test2.html', 2, 2)\n",
    "webdir('http://reed.cs.depaul.edu/lperkovic/csc242/test4.html', 2, 4)\n",
    "webdir('http://reed.cs.depaul.edu/lperkovic/csc242/test3.html', 2, 2)\n",
    "webdir('http://reed.cs.depaul.edu/lperkovic/csc242/test4.html', 2, 4)\n"
   ]
  },
  {
   "cell_type": "markdown",
   "id": "56adac1f",
   "metadata": {},
   "source": [
    "# Question 8"
   ]
  },
  {
   "cell_type": "markdown",
   "id": "d035db3c",
   "metadata": {},
   "source": [
    "ClimateData\n",
    "|City     | Country      | Season | Temperature     |Rainfall(mm)|\n",
    "|:--------|:-------------|:-------|:----------------|:-----------|   \n",
    "|Mumbai   |India         |Winter  |24.8             |5.9         |\n",
    "|Mumbai   |India         |Spring  |28.4             |16.2        |\n",
    "|Mumbai   |India         |Summer  |27.9             |1549.4      |\n",
    "|Mumbai   |India         |Fall    |27.6             |46.0        |\n",
    "|London   |United Kingdom|Winter  |4.2              |207.7       |\n",
    "|London   |United Kingdom|Spring  |8.3              |169.6       |\n",
    "|London   |United Kingdom|Summer  |15.7             |157.0       |\n",
    "|London   |United Kingdom|Fall    |10.4             |218.5       |\n",
    "|Cairo    |Egypt         |Winter  |13.6             |16.5        |\n",
    "|Cairo    |Egypt         |Spring  |20.7             |6.5         |\n",
    "|Cairo    |Egypt         |Summer  |27.7             |0.1         |\n",
    "|Cairo    |Egypt         |Fall    |22.2             |4.5         |\n",
    " \n",
    "\n"
   ]
  },
  {
   "cell_type": "markdown",
   "id": "535711fd",
   "metadata": {},
   "source": [
    "#### a) All the temperature data.\n"
   ]
  },
  {
   "cell_type": "code",
   "execution_count": null,
   "id": "43cb6252",
   "metadata": {},
   "outputs": [],
   "source": [
    "%%sql\n",
    "SELECT Temperature\n",
    "FROM ClimateData;"
   ]
  },
  {
   "cell_type": "markdown",
   "id": "08b6a968",
   "metadata": {},
   "source": [
    "#### b) All the cities, but without repetition."
   ]
  },
  {
   "cell_type": "code",
   "execution_count": null,
   "id": "b2964554",
   "metadata": {},
   "outputs": [],
   "source": [
    "%%sql\n",
    "SELECT Distinct City FROM ClimateData;"
   ]
  },
  {
   "cell_type": "markdown",
   "id": "165debae",
   "metadata": {},
   "source": [
    "#### c) All the records for India."
   ]
  },
  {
   "cell_type": "code",
   "execution_count": null,
   "id": "88795776",
   "metadata": {},
   "outputs": [],
   "source": [
    "%%sql\n",
    "SELECT * ClimateData WHERE country = 'India';"
   ]
  },
  {
   "cell_type": "markdown",
   "id": "4ed26fb5",
   "metadata": {},
   "source": [
    "#### d) All the Fall records"
   ]
  },
  {
   "cell_type": "code",
   "execution_count": null,
   "id": "ab3d722e",
   "metadata": {},
   "outputs": [],
   "source": [
    "%%sql\n",
    "SELECT * FROM  ClimateData WHERE season = 'Fall';"
   ]
  },
  {
   "cell_type": "markdown",
   "id": "b1599877",
   "metadata": {},
   "source": [
    "#### e) The city, country, and season for which the average rainfall is between 200 and 400 millimeters"
   ]
  },
  {
   "cell_type": "code",
   "execution_count": null,
   "id": "d4301738",
   "metadata": {},
   "outputs": [],
   "source": [
    "%%sql\n",
    "SELECT city, country, season \n",
    "FROM ClimateData\n",
    "WHERE rainfal BETWEEN 200 AND 400;"
   ]
  },
  {
   "cell_type": "markdown",
   "id": "94e252ee",
   "metadata": {},
   "source": [
    "#### f) The city and country for which the average Fall temperature is above 20 degrees, in increasing temperature order.\n"
   ]
  },
  {
   "cell_type": "code",
   "execution_count": null,
   "id": "00c478ff",
   "metadata": {},
   "outputs": [],
   "source": [
    "%%sql\n",
    "SELECT city, country\n",
    "FROM ClimateData\n",
    "WHERE Season = 'Fall'\n",
    "GROUP BY city, country\n",
    "HAVING AVG(temperature) > 20\n",
    "ORDER BY AVG(temperature);\n"
   ]
  },
  {
   "cell_type": "markdown",
   "id": "f9d40da6",
   "metadata": {},
   "source": [
    "#### g) The total annual rainfall for Cairo."
   ]
  },
  {
   "cell_type": "code",
   "execution_count": null,
   "id": "f48c8051",
   "metadata": {},
   "outputs": [],
   "source": [
    "%%sql\n",
    "SELECT SUM(rainfall) AS total_rainfall\n",
    "FROM ClimateData\n",
    "Where city = 'Cairo';\n"
   ]
  },
  {
   "cell_type": "markdown",
   "id": "e44597d1",
   "metadata": {},
   "source": [
    "#### h) The total rainfall for each season"
   ]
  },
  {
   "cell_type": "code",
   "execution_count": null,
   "id": "1fddce13",
   "metadata": {},
   "outputs": [],
   "source": [
    "%%sql\n",
    "SELECT season, SUM(rainfall) AS total_rainfall\n",
    "FROM ClimateData\n",
    "GROUP BY season;\n"
   ]
  },
  {
   "cell_type": "markdown",
   "id": "c5f38db9",
   "metadata": {},
   "source": [
    "# Question 9"
   ]
  },
  {
   "cell_type": "code",
   "execution_count": 21,
   "id": "7778f110",
   "metadata": {},
   "outputs": [
    {
     "name": "stdout",
     "output_type": "stream",
     "text": [
      "['THE', 'QUICK', 'BROWN', 'FOX', 'JUMPS', 'OVER', 'THE', 'LAZY', 'DOG']\n",
      "['the', 'quick', 'brown', 'fox', 'jumps', 'over', 'the', 'lazy', 'dog']\n",
      "[3, 5, 5, 3, 5, 4, 3, 4, 3]\n",
      "[['THE', 'the', 3], ['QUICK', 'quick', 5], ['BROWN', 'brown', 5], ['FOX', 'fox', 3], ['JUMPS', 'jumps', 5], ['OVER', 'over', 4], ['THE', 'the', 3], ['LAZY', 'lazy', 4], ['DOG', 'dog', 3]]\n",
      "['quick', 'brown', 'jumps', 'over', 'lazy']\n"
     ]
    }
   ],
   "source": [
    "words = ['The', 'quick', 'brown', 'fox', 'jumps', 'over', 'the', 'lazy', 'dog']\n",
    "uppercase_words = [word.upper() for word in words]\n",
    "print(uppercase_words)\n",
    "\n",
    "lowercase_words = [word.lower() for word in words]\n",
    "print(lowercase_words)\n",
    "\n",
    "length_words = [len(word) for word in words]\n",
    "print(length_words)\n",
    "\n",
    "all_words =[[word.upper(), word.lower(), len(word)] for word in words]\n",
    "print(all_words)\n",
    "\n",
    "filter_words = [word for word in words if len(word) >= 4]\n",
    "print(filter_words)\n"
   ]
  },
  {
   "cell_type": "code",
   "execution_count": null,
   "id": "d150589e",
   "metadata": {},
   "outputs": [],
   "source": []
  }
 ],
 "metadata": {
  "kernelspec": {
   "display_name": "Python 3 (ipykernel)",
   "language": "python",
   "name": "python3"
  },
  "language_info": {
   "codemirror_mode": {
    "name": "ipython",
    "version": 3
   },
   "file_extension": ".py",
   "mimetype": "text/x-python",
   "name": "python",
   "nbconvert_exporter": "python",
   "pygments_lexer": "ipython3",
   "version": "3.11.5"
  }
 },
 "nbformat": 4,
 "nbformat_minor": 5
}
